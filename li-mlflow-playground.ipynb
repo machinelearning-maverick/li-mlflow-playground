{
 "cells": [
  {
   "cell_type": "markdown",
   "id": "bdf269fc-9870-480a-bf6d-1a9c6bf4090b",
   "metadata": {},
   "source": [
    "## Install MLflow locally"
   ]
  },
  {
   "cell_type": "code",
   "execution_count": 8,
   "id": "30c47b53-bfee-4a04-aacf-18900ce24797",
   "metadata": {},
   "outputs": [
    {
     "name": "stdout",
     "output_type": "stream",
     "text": [
      "Defaulting to user installation because normal site-packages is not writeable\n",
      "Requirement already satisfied: mlflow in /home/wild-duckling/.local/lib/python3.12/site-packages (2.14.3)\n",
      "Requirement already satisfied: Flask<4 in /home/wild-duckling/.local/lib/python3.12/site-packages (from mlflow) (3.0.3)\n",
      "Requirement already satisfied: alembic!=1.10.0,<2 in /home/wild-duckling/.local/lib/python3.12/site-packages (from mlflow) (1.13.2)\n",
      "Requirement already satisfied: cachetools<6,>=5.0.0 in /usr/lib/python3.12/site-packages (from mlflow) (5.3.2)\n",
      "Requirement already satisfied: click<9,>=7.0 in /usr/lib/python3.12/site-packages (from mlflow) (8.1.7)\n",
      "Requirement already satisfied: cloudpickle<4 in /home/wild-duckling/.local/lib/python3.12/site-packages (from mlflow) (3.0.0)\n",
      "Requirement already satisfied: docker<8,>=4.0.0 in /home/wild-duckling/.local/lib/python3.12/site-packages (from mlflow) (7.1.0)\n",
      "Requirement already satisfied: entrypoints<1 in /usr/lib/python3.12/site-packages (from mlflow) (0.4)\n",
      "Requirement already satisfied: gitpython<4,>=3.1.9 in /home/wild-duckling/.local/lib/python3.12/site-packages (from mlflow) (3.1.43)\n",
      "Requirement already satisfied: graphene<4 in /home/wild-duckling/.local/lib/python3.12/site-packages (from mlflow) (3.3)\n",
      "Requirement already satisfied: importlib-metadata!=4.7.0,<8,>=3.7.0 in /home/wild-duckling/.local/lib/python3.12/site-packages (from mlflow) (7.2.1)\n",
      "Requirement already satisfied: markdown<4,>=3.3 in /usr/lib/python3.12/site-packages (from mlflow) (3.5.2)\n",
      "Requirement already satisfied: matplotlib<4 in /usr/lib64/python3.12/site-packages (from mlflow) (3.8.4)\n",
      "Requirement already satisfied: numpy<2 in /usr/lib64/python3.12/site-packages (from mlflow) (1.26.4)\n",
      "Requirement already satisfied: opentelemetry-api<3,>=1.9.0 in /home/wild-duckling/.local/lib/python3.12/site-packages (from mlflow) (1.26.0)\n",
      "Requirement already satisfied: opentelemetry-sdk<3,>=1.9.0 in /home/wild-duckling/.local/lib/python3.12/site-packages (from mlflow) (1.26.0)\n",
      "Requirement already satisfied: packaging<25 in /usr/lib/python3.12/site-packages (from mlflow) (23.2)\n",
      "Requirement already satisfied: pandas<3 in /usr/lib64/python3.12/site-packages (from mlflow) (2.2.1)\n",
      "Requirement already satisfied: protobuf<5,>=3.12.0 in /usr/lib64/python3.12/site-packages (from mlflow) (3.19.6)\n",
      "Requirement already satisfied: pyarrow<16,>=4.0.0 in /usr/lib64/python3.12/site-packages (from mlflow) (15.0.2)\n",
      "Requirement already satisfied: pytz<2025 in /usr/lib/python3.12/site-packages (from mlflow) (2024.1)\n",
      "Requirement already satisfied: pyyaml<7,>=5.1 in /usr/lib64/python3.12/site-packages (from mlflow) (6.0.1)\n",
      "Requirement already satisfied: querystring-parser<2 in /home/wild-duckling/.local/lib/python3.12/site-packages (from mlflow) (1.2.4)\n",
      "Requirement already satisfied: requests<3,>=2.17.3 in /usr/lib/python3.12/site-packages (from mlflow) (2.31.0)\n",
      "Requirement already satisfied: scikit-learn<2 in /home/wild-duckling/.local/lib/python3.12/site-packages (from mlflow) (1.5.1)\n",
      "Requirement already satisfied: scipy<2 in /usr/lib64/python3.12/site-packages (from mlflow) (1.11.3)\n",
      "Requirement already satisfied: sqlalchemy<3,>=1.4.0 in /usr/lib64/python3.12/site-packages (from mlflow) (2.0.30)\n",
      "Requirement already satisfied: sqlparse<1,>=0.4.0 in /home/wild-duckling/.local/lib/python3.12/site-packages (from mlflow) (0.5.1)\n",
      "Requirement already satisfied: Jinja2<4,>=2.11 in /usr/lib/python3.12/site-packages (from mlflow) (3.1.4)\n",
      "Requirement already satisfied: gunicorn<23 in /home/wild-duckling/.local/lib/python3.12/site-packages (from mlflow) (22.0.0)\n",
      "Requirement already satisfied: Mako in /usr/lib/python3.12/site-packages (from alembic!=1.10.0,<2->mlflow) (1.2.3)\n",
      "Requirement already satisfied: typing-extensions>=4 in /usr/lib/python3.12/site-packages (from alembic!=1.10.0,<2->mlflow) (4.9.0)\n",
      "Requirement already satisfied: urllib3>=1.26.0 in /usr/lib/python3.12/site-packages (from docker<8,>=4.0.0->mlflow) (1.26.18)\n",
      "Requirement already satisfied: Werkzeug>=3.0.0 in /home/wild-duckling/.local/lib/python3.12/site-packages (from Flask<4->mlflow) (3.0.3)\n",
      "Requirement already satisfied: itsdangerous>=2.1.2 in /home/wild-duckling/.local/lib/python3.12/site-packages (from Flask<4->mlflow) (2.2.0)\n",
      "Requirement already satisfied: blinker>=1.6.2 in /home/wild-duckling/.local/lib/python3.12/site-packages (from Flask<4->mlflow) (1.8.2)\n",
      "Requirement already satisfied: gitdb<5,>=4.0.1 in /home/wild-duckling/.local/lib/python3.12/site-packages (from gitpython<4,>=3.1.9->mlflow) (4.0.11)\n",
      "Requirement already satisfied: graphql-core<3.3,>=3.1 in /home/wild-duckling/.local/lib/python3.12/site-packages (from graphene<4->mlflow) (3.2.3)\n",
      "Requirement already satisfied: graphql-relay<3.3,>=3.1 in /home/wild-duckling/.local/lib/python3.12/site-packages (from graphene<4->mlflow) (3.2.0)\n",
      "Requirement already satisfied: aniso8601<10,>=8 in /home/wild-duckling/.local/lib/python3.12/site-packages (from graphene<4->mlflow) (9.0.1)\n",
      "Requirement already satisfied: zipp>=0.5 in /home/wild-duckling/.local/lib/python3.12/site-packages (from importlib-metadata!=4.7.0,<8,>=3.7.0->mlflow) (3.19.2)\n",
      "Requirement already satisfied: MarkupSafe>=2.0 in /usr/lib64/python3.12/site-packages (from Jinja2<4,>=2.11->mlflow) (2.1.3)\n",
      "Requirement already satisfied: contourpy>=1.0.1 in /usr/lib64/python3.12/site-packages (from matplotlib<4->mlflow) (1.2.0)\n",
      "Requirement already satisfied: cycler>=0.10 in /usr/lib/python3.12/site-packages (from matplotlib<4->mlflow) (0.11.0)\n",
      "Requirement already satisfied: fonttools>=4.22.0 in /usr/lib64/python3.12/site-packages (from matplotlib<4->mlflow) (4.50.0)\n",
      "Requirement already satisfied: kiwisolver>=1.3.1 in /usr/lib64/python3.12/site-packages (from matplotlib<4->mlflow) (1.4.5)\n",
      "Requirement already satisfied: pillow>=8 in /usr/lib64/python3.12/site-packages (from matplotlib<4->mlflow) (10.3.0)\n",
      "Requirement already satisfied: pyparsing>=2.3.1 in /usr/lib/python3.12/site-packages (from matplotlib<4->mlflow) (3.1.2)\n",
      "Requirement already satisfied: python-dateutil>=2.7 in /usr/lib/python3.12/site-packages (from matplotlib<4->mlflow) (2.8.2)\n",
      "Requirement already satisfied: deprecated>=1.2.6 in /home/wild-duckling/.local/lib/python3.12/site-packages (from opentelemetry-api<3,>=1.9.0->mlflow) (1.2.14)\n",
      "Requirement already satisfied: opentelemetry-semantic-conventions==0.47b0 in /home/wild-duckling/.local/lib/python3.12/site-packages (from opentelemetry-sdk<3,>=1.9.0->mlflow) (0.47b0)\n",
      "Requirement already satisfied: six in /usr/lib/python3.12/site-packages (from querystring-parser<2->mlflow) (1.16.0)\n",
      "Requirement already satisfied: charset-normalizer<4,>=2 in /usr/lib/python3.12/site-packages (from requests<3,>=2.17.3->mlflow) (3.3.2)\n",
      "Requirement already satisfied: idna<4,>=2.5 in /usr/lib/python3.12/site-packages (from requests<3,>=2.17.3->mlflow) (3.7)\n",
      "Requirement already satisfied: joblib>=1.2.0 in /home/wild-duckling/.local/lib/python3.12/site-packages (from scikit-learn<2->mlflow) (1.4.2)\n",
      "Requirement already satisfied: threadpoolctl>=3.1.0 in /home/wild-duckling/.local/lib/python3.12/site-packages (from scikit-learn<2->mlflow) (3.5.0)\n",
      "Requirement already satisfied: greenlet!=0.4.17 in /usr/lib64/python3.12/site-packages (from sqlalchemy<3,>=1.4.0->mlflow) (3.0.3)\n",
      "Requirement already satisfied: wrapt<2,>=1.10 in /home/wild-duckling/.local/lib/python3.12/site-packages (from deprecated>=1.2.6->opentelemetry-api<3,>=1.9.0->mlflow) (1.16.0)\n",
      "Requirement already satisfied: smmap<6,>=3.0.1 in /home/wild-duckling/.local/lib/python3.12/site-packages (from gitdb<5,>=4.0.1->gitpython<4,>=3.1.9->mlflow) (5.0.1)\n",
      "Note: you may need to restart the kernel to use updated packages.\n"
     ]
    }
   ],
   "source": [
    "# Install MLflow locally\n",
    "%pip install mlflow"
   ]
  },
  {
   "cell_type": "markdown",
   "id": "0395106a-3b0c-4b89-8579-5c588c3f91ca",
   "metadata": {},
   "source": [
    "## Run a local MLflow Tracking Server"
   ]
  },
  {
   "cell_type": "code",
   "execution_count": 7,
   "id": "a01c8067-e802-48d5-85d4-a19550807789",
   "metadata": {},
   "outputs": [],
   "source": [
    "# Run a local MLflow Tracking Server - Use Terminal\n",
    "# mlflow server --host 127.0.0.1 --port 5000"
   ]
  },
  {
   "cell_type": "code",
   "execution_count": 2,
   "id": "27584e47-5ac4-4b55-84ad-502344f85239",
   "metadata": {},
   "outputs": [],
   "source": [
    "# Set the Tracking Server URI\n",
    "import mlflow\n",
    "mlflow.set_tracking_uri(uri=\"http://127.0.0.1:5000\")"
   ]
  },
  {
   "cell_type": "markdown",
   "id": "f0136e56-bed0-4868-bbf3-8a2363b20c62",
   "metadata": {},
   "source": [
    "## Train a model as usual "
   ]
  },
  {
   "cell_type": "code",
   "execution_count": 4,
   "id": "7cf96d1c-f6d5-4438-b532-33c2b6f125e6",
   "metadata": {},
   "outputs": [
    {
     "name": "stderr",
     "output_type": "stream",
     "text": [
      "/home/wild-duckling/.local/lib/python3.12/site-packages/sklearn/linear_model/_logistic.py:1247: FutureWarning: 'multi_class' was deprecated in version 1.5 and will be removed in 1.7. From then on, it will always use 'multinomial'. Leave it to its default value to avoid this warning.\n",
      "  warnings.warn(\n"
     ]
    }
   ],
   "source": [
    "import mlflow\n",
    "from mlflow.models import infer_signature\n",
    "\n",
    "import pandas as pd\n",
    "from sklearn import datasets\n",
    "from sklearn.model_selection import train_test_split\n",
    "from sklearn.linear_model import LogisticRegression\n",
    "from sklearn.metrics import accuracy_score, precision_score, recall_score, f1_score\n",
    "\n",
    "\n",
    "# Load the Iris dataset\n",
    "X, y = datasets.load_iris(return_X_y=True)\n",
    "\n",
    "# Split the data into training and test sets\n",
    "X_train, X_test, y_train, y_test = train_test_split(\n",
    "    X, y, test_size=0.2, random_state=42)\n",
    "\n",
    "# Define the model hyperparameters\n",
    "params = {\n",
    "    \"solver\": \"lbfgs\",\n",
    "    \"max_iter\": 1000,\n",
    "    \"multi_class\": \"auto\",\n",
    "    \"random_state\": 8888\n",
    "}\n",
    "\n",
    "# Train the model\n",
    "model = LogisticRegression(**params)\n",
    "model.fit(X_train, y_train)\n",
    "\n",
    "# Predict on the test set\n",
    "y_pred = model.predict(X_test)\n",
    "\n",
    "# Calculate metrics\n",
    "accuracy = accuracy_score(y_test, y_pred)\n"
   ]
  },
  {
   "cell_type": "markdown",
   "id": "244fda84-54c6-49fb-8a9a-e42b65540f4a",
   "metadata": {},
   "source": [
    "## Log the model and its metadata to MLflow\n",
    "1. Setup MLflow\n",
    "2. Start an MLflow run"
   ]
  },
  {
   "cell_type": "code",
   "execution_count": 5,
   "id": "29211954-0a19-41ad-bd82-deeaebf8fb55",
   "metadata": {},
   "outputs": [
    {
     "name": "stderr",
     "output_type": "stream",
     "text": [
      "2024/07/26 20:37:01 INFO mlflow.tracking.fluent: Experiment with name 'MLflow Quickstart' does not exist. Creating a new experiment.\n",
      "Successfully registered model 'tracking-iris'.\n",
      "2024/07/26 20:37:05 INFO mlflow.store.model_registry.abstract_store: Waiting up to 300 seconds for model version to finish creation. Model name: tracking-iris, version 1\n",
      "Created version '1' of model 'tracking-iris'.\n"
     ]
    }
   ],
   "source": [
    "# Set our tracking server uri for logging\n",
    "mlflow.set_tracking_uri(uri=\"http://127.0.0.1:5000\")\n",
    "\n",
    "# Create a new MLflow Experiment\n",
    "mlflow.set_experiment(\"MLflow Quickstart\")\n",
    "\n",
    "# Start an MLflow run\n",
    "with mlflow.start_run():\n",
    "    # Log the hyperparameters\n",
    "    mlflow.log_params(params)\n",
    "\n",
    "    # Log the loss metric\n",
    "    mlflow.log_metric(\"accuracy\", accuracy)\n",
    "\n",
    "    # Set a tag that we can use to remind ourselves what this run was for\n",
    "    mlflow.set_tag(\"Training Info\", \"Model & iris data\")\n",
    "\n",
    "    # Infer the model signature\n",
    "    signature = infer_signature(X_train, model.predict(X_train))\n",
    "\n",
    "    # Log the model\n",
    "    model_info = mlflow.sklearn.log_model(\n",
    "        sk_model=model,\n",
    "        artifact_path=\"iris_model\",\n",
    "        signature=signature,\n",
    "        input_example=X_train,\n",
    "        registered_model_name=\"tracking-iris\"\n",
    "    )\n"
   ]
  },
  {
   "cell_type": "markdown",
   "id": "cfc52457-1db4-4253-ae14-3ff6dca7cad5",
   "metadata": {},
   "source": [
    "## Load the model as a Python Function & use it for inference\n",
    "1. Make predictions\n",
    "2. Use pandas to show data"
   ]
  },
  {
   "cell_type": "code",
   "execution_count": 7,
   "id": "b34cd2e0-ae63-43c8-9b9c-4142721e8691",
   "metadata": {},
   "outputs": [
    {
     "data": {
      "text/html": [
       "<div>\n",
       "<style scoped>\n",
       "    .dataframe tbody tr th:only-of-type {\n",
       "        vertical-align: middle;\n",
       "    }\n",
       "\n",
       "    .dataframe tbody tr th {\n",
       "        vertical-align: top;\n",
       "    }\n",
       "\n",
       "    .dataframe thead th {\n",
       "        text-align: right;\n",
       "    }\n",
       "</style>\n",
       "<table border=\"1\" class=\"dataframe\">\n",
       "  <thead>\n",
       "    <tr style=\"text-align: right;\">\n",
       "      <th></th>\n",
       "      <th>sepal length (cm)</th>\n",
       "      <th>sepal width (cm)</th>\n",
       "      <th>petal length (cm)</th>\n",
       "      <th>petal width (cm)</th>\n",
       "      <th>actual_class</th>\n",
       "      <th>predicted_class</th>\n",
       "    </tr>\n",
       "  </thead>\n",
       "  <tbody>\n",
       "    <tr>\n",
       "      <th>0</th>\n",
       "      <td>6.1</td>\n",
       "      <td>2.8</td>\n",
       "      <td>4.7</td>\n",
       "      <td>1.2</td>\n",
       "      <td>1</td>\n",
       "      <td>1</td>\n",
       "    </tr>\n",
       "    <tr>\n",
       "      <th>1</th>\n",
       "      <td>5.7</td>\n",
       "      <td>3.8</td>\n",
       "      <td>1.7</td>\n",
       "      <td>0.3</td>\n",
       "      <td>0</td>\n",
       "      <td>0</td>\n",
       "    </tr>\n",
       "    <tr>\n",
       "      <th>2</th>\n",
       "      <td>7.7</td>\n",
       "      <td>2.6</td>\n",
       "      <td>6.9</td>\n",
       "      <td>2.3</td>\n",
       "      <td>2</td>\n",
       "      <td>2</td>\n",
       "    </tr>\n",
       "    <tr>\n",
       "      <th>3</th>\n",
       "      <td>6.0</td>\n",
       "      <td>2.9</td>\n",
       "      <td>4.5</td>\n",
       "      <td>1.5</td>\n",
       "      <td>1</td>\n",
       "      <td>1</td>\n",
       "    </tr>\n",
       "  </tbody>\n",
       "</table>\n",
       "</div>"
      ],
      "text/plain": [
       "   sepal length (cm)  sepal width (cm)  petal length (cm)  petal width (cm)  \\\n",
       "0                6.1               2.8                4.7               1.2   \n",
       "1                5.7               3.8                1.7               0.3   \n",
       "2                7.7               2.6                6.9               2.3   \n",
       "3                6.0               2.9                4.5               1.5   \n",
       "\n",
       "   actual_class  predicted_class  \n",
       "0             1                1  \n",
       "1             0                0  \n",
       "2             2                2  \n",
       "3             1                1  "
      ]
     },
     "execution_count": 7,
     "metadata": {},
     "output_type": "execute_result"
    }
   ],
   "source": [
    "# Load the model back for predictions as a generic Python Function model\n",
    "loaded_model = mlflow.pyfunc.load_model(model_info.model_uri)\n",
    "\n",
    "predictions = loaded_model.predict(X_test)\n",
    "\n",
    "iris_feature_names = datasets.load_iris().feature_names\n",
    "\n",
    "result = pd.DataFrame(X_test, columns=iris_feature_names)\n",
    "result[\"actual_class\"] = y_test\n",
    "result[\"predicted_class\"] = predictions\n",
    "\n",
    "result[:4]"
   ]
  }
 ],
 "metadata": {
  "kernelspec": {
   "display_name": "Python 3 (ipykernel)",
   "language": "python",
   "name": "python3"
  },
  "language_info": {
   "codemirror_mode": {
    "name": "ipython",
    "version": 3
   },
   "file_extension": ".py",
   "mimetype": "text/x-python",
   "name": "python",
   "nbconvert_exporter": "python",
   "pygments_lexer": "ipython3",
   "version": "3.12.3"
  }
 },
 "nbformat": 4,
 "nbformat_minor": 5
}
